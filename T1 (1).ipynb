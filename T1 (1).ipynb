{
 "cells": [
  {
   "cell_type": "code",
   "execution_count": 1,
   "id": "2613c96a-8873-4c72-85a6-769a0e9a5756",
   "metadata": {},
   "outputs": [],
   "source": [
    "import pymongo\n"
   ]
  },
  {
   "cell_type": "code",
   "execution_count": 5,
   "id": "b6d556b9-7ed4-4722-bc41-e487e84c6b2b",
   "metadata": {},
   "outputs": [],
   "source": [
    "client=pymongo.MongoClient('mongodb://127.0.0.1:27017')"
   ]
  },
  {
   "cell_type": "code",
   "execution_count": 7,
   "id": "ba92aa7a-24a1-44af-a6b0-c10dcbc8d7d6",
   "metadata": {},
   "outputs": [],
   "source": [
    "# to create database\n",
    "mydb=client['Employee']"
   ]
  },
  {
   "cell_type": "code",
   "execution_count": 18,
   "id": "6f0fae04-4c82-48f2-b11d-fa27f92aea03",
   "metadata": {},
   "outputs": [
    {
     "data": {
      "text/plain": [
       "Collection(Database(MongoClient(host=['127.0.0.1:27017'], document_class=dict, tz_aware=False, connect=True), 'Employee'), 'employeeinformation')"
      ]
     },
     "execution_count": 18,
     "metadata": {},
     "output_type": "execute_result"
    }
   ],
   "source": [
    "# creating collection\n",
    "\n",
    "mydb.employeeinformation"
   ]
  },
  {
   "cell_type": "code",
   "execution_count": 12,
   "id": "52c4aa2f-5bc1-4148-9674-76f0e05998ab",
   "metadata": {},
   "outputs": [],
   "source": [
    "record=[{\n",
    "      'firstname':'chaitanya',\n",
    "    'lstname':'Kumar',\n",
    "    'branch': 'EcE',    \n",
    "},\n",
    "        {\n",
    "     'firstname':'umesh',\n",
    "    'lstname':'chandra',\n",
    "    'branch': 'EcE',\n",
    "        },\n",
    "            {\n",
    "     'firstname':'c',\n",
    "    'lstname':'k',\n",
    "    'branch': 'EcE',\n",
    "        }\n",
    "\n",
    "        \n",
    "       ]"
   ]
  },
  {
   "cell_type": "code",
   "execution_count": 15,
   "id": "2a691a36-96ad-465d-9102-fa385b063b8f",
   "metadata": {},
   "outputs": [
    {
     "data": {
      "text/plain": [
       "InsertManyResult([ObjectId('6840280e289d25cfc38ec1e1'), ObjectId('6840280e289d25cfc38ec1e2'), ObjectId('6840280e289d25cfc38ec1e3')], acknowledged=True)"
      ]
     },
     "execution_count": 15,
     "metadata": {},
     "output_type": "execute_result"
    }
   ],
   "source": [
    "information.insert_many(record)"
   ]
  },
  {
   "cell_type": "code",
   "execution_count": 17,
   "id": "9628d6d3-327a-419e-8bb5-de44f187ebdc",
   "metadata": {},
   "outputs": [
    {
     "data": {
      "text/plain": [
       "['employeeinformation']"
      ]
     },
     "execution_count": 17,
     "metadata": {},
     "output_type": "execute_result"
    }
   ],
   "source": [
    "mydb.list_collection_names()"
   ]
  }
 ],
 "metadata": {
  "kernelspec": {
   "display_name": "Python 3 (ipykernel)",
   "language": "python",
   "name": "python3"
  },
  "language_info": {
   "codemirror_mode": {
    "name": "ipython",
    "version": 3
   },
   "file_extension": ".py",
   "mimetype": "text/x-python",
   "name": "python",
   "nbconvert_exporter": "python",
   "pygments_lexer": "ipython3",
   "version": "3.12.10"
  }
 },
 "nbformat": 4,
 "nbformat_minor": 5
}
