{
 "cells": [
  {
   "cell_type": "raw",
   "id": "f7c3adc9-481e-4375-b1e1-1a92efb4f669",
   "metadata": {},
   "source": [
    "MONGO DB WITH PYTHON-QUERYING JSON DOCUMENTS"
   ]
  },
  {
   "cell_type": "code",
   "execution_count": 3,
   "id": "ad10253d-8e2e-4d19-84da-e68b8da72a48",
   "metadata": {},
   "outputs": [],
   "source": [
    "import pymongo\n",
    "client=pymongo.MongoClient('mongodb://127.0.0.1:27017/')\n"
   ]
  },
  {
   "cell_type": "code",
   "execution_count": 4,
   "id": "fe793668-5753-4e36-b520-28531657c60c",
   "metadata": {},
   "outputs": [],
   "source": [
    "# to create database\n",
    "mydb=client['Employeee']"
   ]
  },
  {
   "cell_type": "code",
   "execution_count": 5,
   "id": "640ae60b-0505-40a6-b6bf-81e5c4f36335",
   "metadata": {},
   "outputs": [],
   "source": [
    "# creating collection\n",
    "\n",
    "empinfo=mydb.employeeinformation"
   ]
  },
  {
   "cell_type": "code",
   "execution_count": 6,
   "id": "e0b2626a-9a14-419d-81dd-8502ee831392",
   "metadata": {},
   "outputs": [],
   "source": [
    "record={\n",
    "      'firstname':'chaitanya',\n",
    "    'lstname':'Kumar',\n",
    "    'branch': 'EcE', \n",
    "    'age':19,\n",
    "    'qualification':'btech'\n",
    "}\n",
    "\n",
    "        \n",
    "       "
   ]
  },
  {
   "cell_type": "code",
   "execution_count": 7,
   "id": "93264427-08bd-43e2-9210-546cce633606",
   "metadata": {},
   "outputs": [
    {
     "data": {
      "text/plain": [
       "InsertOneResult(ObjectId('68403d724e96a64eef81f8dd'), acknowledged=True)"
      ]
     },
     "execution_count": 7,
     "metadata": {},
     "output_type": "execute_result"
    }
   ],
   "source": [
    "empinfo.insert_one(record)"
   ]
  },
  {
   "cell_type": "code",
   "execution_count": 8,
   "id": "1ceff45b-58ea-4ae1-99b6-5c4d1d7ef057",
   "metadata": {},
   "outputs": [
    {
     "data": {
      "text/plain": [
       "InsertManyResult([ObjectId('68403d724e96a64eef81f8de'), ObjectId('68403d724e96a64eef81f8df'), ObjectId('68403d724e96a64eef81f8e0'), ObjectId('68403d724e96a64eef81f8e1'), ObjectId('68403d724e96a64eef81f8e2')], acknowledged=True)"
      ]
     },
     "execution_count": 8,
     "metadata": {},
     "output_type": "execute_result"
    }
   ],
   "source": [
    "records=[{\n",
    " 'firstname':'chaitanya',\n",
    "    'lstname':'Kumar',\n",
    "    'branch': 'EcE', \n",
    "     'qualification':'btech',\n",
    "    'age':19\n",
    "},\n",
    "         {\n",
    " 'firstname':'umesh',\n",
    "    'lstname':'chandra',\n",
    "    'branch': 'EcE', \n",
    "    'age':16,\n",
    "    'qualification':'masters'\n",
    "},\n",
    "          {\n",
    " 'firstname':'john',\n",
    "    'lstname':'abraham',\n",
    "    'branch': 'EcE', \n",
    "    'age':16,\n",
    "    'qualification':'phd'\n",
    "              \n",
    "},\n",
    "          {\n",
    " 'firstname':'jake',\n",
    "    'lstname':'paul',\n",
    "    'branch': 'EcE', \n",
    "    'age':16,\n",
    "        'qualification':'masters'\n",
    "},\n",
    "          {\n",
    " 'firstname':'slat',\n",
    "    'lstname':'virat',\n",
    "    'branch': 'EcE', \n",
    "    'age':16,\n",
    "       'qualification':'phd'       \n",
    "},\n",
    "        \n",
    "        ]\n",
    "\n",
    "empinfo.insert_many(records)"
   ]
  },
  {
   "cell_type": "code",
   "execution_count": 9,
   "id": "90a6477b-e61b-43de-a002-5c920ef43bab",
   "metadata": {},
   "outputs": [
    {
     "data": {
      "text/plain": [
       "{'_id': ObjectId('68403d724e96a64eef81f8dd'),\n",
       " 'firstname': 'chaitanya',\n",
       " 'lstname': 'Kumar',\n",
       " 'branch': 'EcE',\n",
       " 'age': 19,\n",
       " 'qualification': 'btech'}"
      ]
     },
     "execution_count": 9,
     "metadata": {},
     "output_type": "execute_result"
    }
   ],
   "source": [
    "## simple way of  quering\n",
    "empinfo.find_one()\n"
   ]
  },
  {
   "cell_type": "code",
   "execution_count": 10,
   "id": "5599f3b8-eb74-4bfb-969f-dc19b03d1582",
   "metadata": {},
   "outputs": [
    {
     "name": "stdout",
     "output_type": "stream",
     "text": [
      "{'_id': ObjectId('68403d724e96a64eef81f8dd'), 'firstname': 'chaitanya', 'lstname': 'Kumar', 'branch': 'EcE', 'age': 19, 'qualification': 'btech'}\n",
      "{'_id': ObjectId('68403d724e96a64eef81f8de'), 'firstname': 'chaitanya', 'lstname': 'Kumar', 'branch': 'EcE', 'qualification': 'btech', 'age': 19}\n",
      "{'_id': ObjectId('68403d724e96a64eef81f8df'), 'firstname': 'umesh', 'lstname': 'chandra', 'branch': 'EcE', 'age': 16, 'qualification': 'masters'}\n",
      "{'_id': ObjectId('68403d724e96a64eef81f8e0'), 'firstname': 'john', 'lstname': 'abraham', 'branch': 'EcE', 'age': 16, 'qualification': 'phd'}\n",
      "{'_id': ObjectId('68403d724e96a64eef81f8e1'), 'firstname': 'jake', 'lstname': 'paul', 'branch': 'EcE', 'age': 16, 'qualification': 'masters'}\n",
      "{'_id': ObjectId('68403d724e96a64eef81f8e2'), 'firstname': 'slat', 'lstname': 'virat', 'branch': 'EcE', 'age': 16, 'qualification': 'phd'}\n"
     ]
    }
   ],
   "source": [
    "## select * from employeeinformation\n",
    "for record in empinfo.find():\n",
    "     print(record)"
   ]
  },
  {
   "cell_type": "code",
   "execution_count": 11,
   "id": "05519eeb-088c-43bd-b0f5-a397c5967d22",
   "metadata": {},
   "outputs": [
    {
     "name": "stdout",
     "output_type": "stream",
     "text": [
      "6\n"
     ]
    }
   ],
   "source": [
    "print(empinfo.count_documents({}))\n"
   ]
  },
  {
   "cell_type": "code",
   "execution_count": 12,
   "id": "6bf7b650-c59c-4a8f-8d92-5f9eeeb2ddcd",
   "metadata": {},
   "outputs": [
    {
     "name": "stdout",
     "output_type": "stream",
     "text": [
      "{'_id': ObjectId('68403d724e96a64eef81f8df'), 'firstname': 'umesh', 'lstname': 'chandra', 'branch': 'EcE', 'age': 16, 'qualification': 'masters'}\n"
     ]
    }
   ],
   "source": [
    "for record in empinfo.find({'firstname':'umesh'}):\n",
    "    print(record)"
   ]
  },
  {
   "cell_type": "code",
   "execution_count": 16,
   "id": "7aefe589-8217-4027-a646-39a0cd30368b",
   "metadata": {},
   "outputs": [],
   "source": [
    "# And and Query opearators \n",
    "for record in empinfo.find({'qualification':'masters','age':{'$lt':16}}):\n",
    "    print(record)"
   ]
  },
  {
   "cell_type": "code",
   "execution_count": 15,
   "id": "cdf2901f-75cd-4dd8-a6f8-a44941e02afa",
   "metadata": {},
   "outputs": [
    {
     "name": "stdout",
     "output_type": "stream",
     "text": [
      "{'_id': ObjectId('68403d724e96a64eef81f8df'), 'firstname': 'umesh', 'lstname': 'chandra', 'branch': 'EcE', 'age': 16, 'qualification': 'masters'}\n",
      "{'_id': ObjectId('68403d724e96a64eef81f8e0'), 'firstname': 'john', 'lstname': 'abraham', 'branch': 'EcE', 'age': 16, 'qualification': 'phd'}\n",
      "{'_id': ObjectId('68403d724e96a64eef81f8e1'), 'firstname': 'jake', 'lstname': 'paul', 'branch': 'EcE', 'age': 16, 'qualification': 'masters'}\n",
      "{'_id': ObjectId('68403d724e96a64eef81f8e2'), 'firstname': 'slat', 'lstname': 'virat', 'branch': 'EcE', 'age': 16, 'qualification': 'phd'}\n"
     ]
    }
   ],
   "source": [
    "## query documents using query operators($in,$lt,$gt)\n",
    "\n",
    "for record in empinfo.find({'qualification':{'$in':['masters','phd']}}):\n",
    "    print(record)"
   ]
  },
  {
   "cell_type": "code",
   "execution_count": 19,
   "id": "efd8da01-1f16-4e74-bafd-6f7e0cd84e7d",
   "metadata": {},
   "outputs": [
    {
     "name": "stdout",
     "output_type": "stream",
     "text": [
      "{'_id': ObjectId('68403d724e96a64eef81f8dd'), 'firstname': 'chaitanya', 'lstname': 'Kumar', 'branch': 'EcE', 'age': 19, 'qualification': 'btech'}\n",
      "{'_id': ObjectId('68403d724e96a64eef81f8de'), 'firstname': 'chaitanya', 'lstname': 'Kumar', 'branch': 'EcE', 'qualification': 'btech', 'age': 19}\n"
     ]
    }
   ],
   "source": [
    "#And and query operators\n",
    "for record in empinfo.find({'qualification':'btech','age':{'$gt':16}}):\n",
    "    print(record)"
   ]
  },
  {
   "cell_type": "code",
   "execution_count": 20,
   "id": "e0c747bc-c6bf-4368-8daa-45dc1a8f5f39",
   "metadata": {},
   "outputs": [
    {
     "name": "stdout",
     "output_type": "stream",
     "text": [
      "{'_id': ObjectId('68403d724e96a64eef81f8e0'), 'firstname': 'john', 'lstname': 'abraham', 'branch': 'EcE', 'age': 16, 'qualification': 'phd'}\n",
      "{'_id': ObjectId('68403d724e96a64eef81f8e2'), 'firstname': 'slat', 'lstname': 'virat', 'branch': 'EcE', 'age': 16, 'qualification': 'phd'}\n"
     ]
    }
   ],
   "source": [
    "#or operators\n",
    "for record in empinfo.find({'$or':[{'firstname':'chaitanaya'},{'qualification':'phd'}]}):\n",
    "    print(record)"
   ]
  },
  {
   "cell_type": "code",
   "execution_count": 21,
   "id": "a5c02abb-1c49-41f2-990b-2b8a2cc6b3d0",
   "metadata": {},
   "outputs": [],
   "source": [
    "# new collection \n",
    "inventory=mydb.inventory"
   ]
  },
  {
   "cell_type": "code",
   "execution_count": 22,
   "id": "17228131-9b22-4511-bd48-78dacf6825fd",
   "metadata": {},
   "outputs": [],
   "source": [
    "inventory.insert_many( [\n",
    "   { 'item': \"journal\", 'qty': 25, 'size': { 'h': 14, 'w': 21,'uom': \"cm\" }, 'status': \"A\" },\n",
    "   { 'item': \"notebook\", 'qty': 50,'size': { 'h': 8.5, 'w': 11,'uom': \"in\" },'status': \"A\" },\n",
    "   { 'item': \"paper\", 'qty': 100, 'size': { 'h': 8.5, 'w': 11,'uom': \"in\" },'status': \"D\" },\n",
    "   { 'item': \"planner\", 'qty': 75, 'size': { 'h': 22.85,'w': 30,'uom': \"cm\" },'status': \"D\" },\n",
    "   { 'item': \"postcard\", 'qty': 45, 'size': { 'h': 10, 'w': 15.25,'uom': \"cm\" },'status': \"A\" }\n",
    "]);"
   ]
  },
  {
   "cell_type": "code",
   "execution_count": 23,
   "id": "6b0a980f-8175-45b3-9269-37fb4bd94069",
   "metadata": {},
   "outputs": [
    {
     "name": "stdout",
     "output_type": "stream",
     "text": [
      "{'_id': ObjectId('684040be4e96a64eef81f8e3'), 'item': 'journal', 'qty': 25, 'size': {'h': 14, 'w': 21, 'uom': 'cm'}, 'status': 'A'}\n"
     ]
    }
   ],
   "source": [
    "for records in inventory.find({'size': { 'h': 14, 'w': 21,'uom': \"cm\" }}):\n",
    "    print(records)"
   ]
  },
  {
   "cell_type": "code",
   "execution_count": null,
   "id": "97a06048-535d-40ed-9587-bcc4cb69799d",
   "metadata": {},
   "outputs": [],
   "source": []
  },
  {
   "cell_type": "code",
   "execution_count": null,
   "id": "8e251e32-526d-4a22-8154-79677e84fa88",
   "metadata": {},
   "outputs": [],
   "source": []
  },
  {
   "cell_type": "code",
   "execution_count": null,
   "id": "3afc4440-edb9-434e-a599-5f4eaa8af152",
   "metadata": {},
   "outputs": [],
   "source": []
  },
  {
   "cell_type": "code",
   "execution_count": null,
   "id": "87e7f29a-9849-4cf6-9085-7d3ae4804981",
   "metadata": {},
   "outputs": [],
   "source": []
  }
 ],
 "metadata": {
  "kernelspec": {
   "display_name": "Python 3 (ipykernel)",
   "language": "python",
   "name": "python3"
  },
  "language_info": {
   "codemirror_mode": {
    "name": "ipython",
    "version": 3
   },
   "file_extension": ".py",
   "mimetype": "text/x-python",
   "name": "python",
   "nbconvert_exporter": "python",
   "pygments_lexer": "ipython3",
   "version": "3.12.10"
  }
 },
 "nbformat": 4,
 "nbformat_minor": 5
}
